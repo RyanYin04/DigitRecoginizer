{
 "cells": [
  {
   "cell_type": "markdown",
   "metadata": {},
   "source": [
    "# Final project: Digit recognization"
   ]
  },
  {
   "cell_type": "code",
   "execution_count": 4,
   "metadata": {},
   "outputs": [],
   "source": [
    "import pandas as pd\n",
    "import numpy as np\n",
    "import matplotlib.pyplot as plt\n",
    "import time"
   ]
  },
  {
   "cell_type": "markdown",
   "metadata": {},
   "source": [
    "### Preprocess Data"
   ]
  },
  {
   "cell_type": "code",
   "execution_count": 5,
   "metadata": {},
   "outputs": [],
   "source": [
    "# Load the data.\n",
    "data = pd.read_csv('./data/train.csv')\n",
    "label = data['label']\n",
    "data.drop('label', axis = 1, inplace = True)"
   ]
  },
  {
   "cell_type": "code",
   "execution_count": 6,
   "metadata": {
    "scrolled": true
   },
   "outputs": [
    {
     "data": {
      "text/html": [
       "<div>\n",
       "<style scoped>\n",
       "    .dataframe tbody tr th:only-of-type {\n",
       "        vertical-align: middle;\n",
       "    }\n",
       "\n",
       "    .dataframe tbody tr th {\n",
       "        vertical-align: top;\n",
       "    }\n",
       "\n",
       "    .dataframe thead th {\n",
       "        text-align: right;\n",
       "    }\n",
       "</style>\n",
       "<table border=\"1\" class=\"dataframe\">\n",
       "  <thead>\n",
       "    <tr style=\"text-align: right;\">\n",
       "      <th></th>\n",
       "      <th>pixel0</th>\n",
       "      <th>pixel1</th>\n",
       "      <th>pixel2</th>\n",
       "      <th>pixel3</th>\n",
       "      <th>pixel4</th>\n",
       "      <th>pixel5</th>\n",
       "      <th>pixel6</th>\n",
       "      <th>pixel7</th>\n",
       "      <th>pixel8</th>\n",
       "      <th>pixel9</th>\n",
       "      <th>...</th>\n",
       "      <th>pixel774</th>\n",
       "      <th>pixel775</th>\n",
       "      <th>pixel776</th>\n",
       "      <th>pixel777</th>\n",
       "      <th>pixel778</th>\n",
       "      <th>pixel779</th>\n",
       "      <th>pixel780</th>\n",
       "      <th>pixel781</th>\n",
       "      <th>pixel782</th>\n",
       "      <th>pixel783</th>\n",
       "    </tr>\n",
       "  </thead>\n",
       "  <tbody>\n",
       "    <tr>\n",
       "      <th>0</th>\n",
       "      <td>0</td>\n",
       "      <td>0</td>\n",
       "      <td>0</td>\n",
       "      <td>0</td>\n",
       "      <td>0</td>\n",
       "      <td>0</td>\n",
       "      <td>0</td>\n",
       "      <td>0</td>\n",
       "      <td>0</td>\n",
       "      <td>0</td>\n",
       "      <td>...</td>\n",
       "      <td>0</td>\n",
       "      <td>0</td>\n",
       "      <td>0</td>\n",
       "      <td>0</td>\n",
       "      <td>0</td>\n",
       "      <td>0</td>\n",
       "      <td>0</td>\n",
       "      <td>0</td>\n",
       "      <td>0</td>\n",
       "      <td>0</td>\n",
       "    </tr>\n",
       "    <tr>\n",
       "      <th>1</th>\n",
       "      <td>0</td>\n",
       "      <td>0</td>\n",
       "      <td>0</td>\n",
       "      <td>0</td>\n",
       "      <td>0</td>\n",
       "      <td>0</td>\n",
       "      <td>0</td>\n",
       "      <td>0</td>\n",
       "      <td>0</td>\n",
       "      <td>0</td>\n",
       "      <td>...</td>\n",
       "      <td>0</td>\n",
       "      <td>0</td>\n",
       "      <td>0</td>\n",
       "      <td>0</td>\n",
       "      <td>0</td>\n",
       "      <td>0</td>\n",
       "      <td>0</td>\n",
       "      <td>0</td>\n",
       "      <td>0</td>\n",
       "      <td>0</td>\n",
       "    </tr>\n",
       "    <tr>\n",
       "      <th>2</th>\n",
       "      <td>0</td>\n",
       "      <td>0</td>\n",
       "      <td>0</td>\n",
       "      <td>0</td>\n",
       "      <td>0</td>\n",
       "      <td>0</td>\n",
       "      <td>0</td>\n",
       "      <td>0</td>\n",
       "      <td>0</td>\n",
       "      <td>0</td>\n",
       "      <td>...</td>\n",
       "      <td>0</td>\n",
       "      <td>0</td>\n",
       "      <td>0</td>\n",
       "      <td>0</td>\n",
       "      <td>0</td>\n",
       "      <td>0</td>\n",
       "      <td>0</td>\n",
       "      <td>0</td>\n",
       "      <td>0</td>\n",
       "      <td>0</td>\n",
       "    </tr>\n",
       "    <tr>\n",
       "      <th>3</th>\n",
       "      <td>0</td>\n",
       "      <td>0</td>\n",
       "      <td>0</td>\n",
       "      <td>0</td>\n",
       "      <td>0</td>\n",
       "      <td>0</td>\n",
       "      <td>0</td>\n",
       "      <td>0</td>\n",
       "      <td>0</td>\n",
       "      <td>0</td>\n",
       "      <td>...</td>\n",
       "      <td>0</td>\n",
       "      <td>0</td>\n",
       "      <td>0</td>\n",
       "      <td>0</td>\n",
       "      <td>0</td>\n",
       "      <td>0</td>\n",
       "      <td>0</td>\n",
       "      <td>0</td>\n",
       "      <td>0</td>\n",
       "      <td>0</td>\n",
       "    </tr>\n",
       "    <tr>\n",
       "      <th>4</th>\n",
       "      <td>0</td>\n",
       "      <td>0</td>\n",
       "      <td>0</td>\n",
       "      <td>0</td>\n",
       "      <td>0</td>\n",
       "      <td>0</td>\n",
       "      <td>0</td>\n",
       "      <td>0</td>\n",
       "      <td>0</td>\n",
       "      <td>0</td>\n",
       "      <td>...</td>\n",
       "      <td>0</td>\n",
       "      <td>0</td>\n",
       "      <td>0</td>\n",
       "      <td>0</td>\n",
       "      <td>0</td>\n",
       "      <td>0</td>\n",
       "      <td>0</td>\n",
       "      <td>0</td>\n",
       "      <td>0</td>\n",
       "      <td>0</td>\n",
       "    </tr>\n",
       "  </tbody>\n",
       "</table>\n",
       "<p>5 rows × 784 columns</p>\n",
       "</div>"
      ],
      "text/plain": [
       "   pixel0  pixel1  pixel2  pixel3  pixel4  pixel5  pixel6  pixel7  pixel8  \\\n",
       "0       0       0       0       0       0       0       0       0       0   \n",
       "1       0       0       0       0       0       0       0       0       0   \n",
       "2       0       0       0       0       0       0       0       0       0   \n",
       "3       0       0       0       0       0       0       0       0       0   \n",
       "4       0       0       0       0       0       0       0       0       0   \n",
       "\n",
       "   pixel9  ...  pixel774  pixel775  pixel776  pixel777  pixel778  pixel779  \\\n",
       "0       0  ...         0         0         0         0         0         0   \n",
       "1       0  ...         0         0         0         0         0         0   \n",
       "2       0  ...         0         0         0         0         0         0   \n",
       "3       0  ...         0         0         0         0         0         0   \n",
       "4       0  ...         0         0         0         0         0         0   \n",
       "\n",
       "   pixel780  pixel781  pixel782  pixel783  \n",
       "0         0         0         0         0  \n",
       "1         0         0         0         0  \n",
       "2         0         0         0         0  \n",
       "3         0         0         0         0  \n",
       "4         0         0         0         0  \n",
       "\n",
       "[5 rows x 784 columns]"
      ]
     },
     "execution_count": 6,
     "metadata": {},
     "output_type": "execute_result"
    }
   ],
   "source": [
    "data.head()"
   ]
  },
  {
   "cell_type": "code",
   "execution_count": 7,
   "metadata": {},
   "outputs": [
    {
     "data": {
      "text/plain": [
       "0    1\n",
       "1    0\n",
       "2    1\n",
       "3    4\n",
       "4    0\n",
       "Name: label, dtype: int64"
      ]
     },
     "execution_count": 7,
     "metadata": {},
     "output_type": "execute_result"
    }
   ],
   "source": [
    "label.head()"
   ]
  },
  {
   "cell_type": "markdown",
   "metadata": {},
   "source": [
    "Split the data & check the size:"
   ]
  },
  {
   "cell_type": "code",
   "execution_count": 8,
   "metadata": {},
   "outputs": [],
   "source": [
    "from sklearn.model_selection import train_test_split\n",
    "from sklearn.metrics import confusion_matrix, roc_curve"
   ]
  },
  {
   "cell_type": "code",
   "execution_count": 9,
   "metadata": {},
   "outputs": [],
   "source": [
    "x_tr, x_te, y_tr, y_te = train_test_split(data, label, test_size = 0.2, random_state = 1)"
   ]
  },
  {
   "cell_type": "code",
   "execution_count": 10,
   "metadata": {},
   "outputs": [
    {
     "data": {
      "text/plain": [
       "((33600, 784), (8400, 784), (33600,), (8400,))"
      ]
     },
     "execution_count": 10,
     "metadata": {},
     "output_type": "execute_result"
    }
   ],
   "source": [
    "x_tr.shape, x_te.shape, y_tr.shape, y_te.shape"
   ]
  },
  {
   "cell_type": "code",
   "execution_count": 7,
   "metadata": {},
   "outputs": [
    {
     "data": {
      "image/png": "[encoded data removed]",
      "text/plain": [
       "<Figure size 504x504 with 70 Axes>"
      ]
     },
     "metadata": {},
     "output_type": "display_data"
    }
   ],
   "source": [
    "def showPic(data):\n",
    "    plt.figure(figsize=(7,7))\n",
    "    # Show the first 70 images in training data.7\n",
    "    for digit_num in range(0,70):\n",
    "        plt.subplot(7,10,digit_num+1)\n",
    "        grid_data = data.iloc[digit_num,:].values.reshape(28,28)  # reshape from 1d to 2d pixel array\n",
    "        plt.imshow(grid_data, interpolation = \"none\", cmap = \"afmhot\")\n",
    "        plt.xticks([])\n",
    "        plt.yticks([])\n",
    "    plt.tight_layout()\n",
    "    return(None)\n",
    "showPic(data)\n",
    "plt.savefig('digits')"
   ]
  },
  {
   "cell_type": "code",
   "execution_count": 11,
   "metadata": {},
   "outputs": [],
   "source": [
    "from sklearn.model_selection import cross_val_score"
   ]
  },
  {
   "cell_type": "code",
   "execution_count": 12,
   "metadata": {},
   "outputs": [],
   "source": [
    "# for convenience, define a function to calculate the test & training accuracy.\n",
    "def pred_accu(pred_tr, pred_te):\n",
    "    '''\n",
    "    This is a function to calculate the test & training accuracy.\n",
    "    \n",
    "    Input:\n",
    "    pred_tr:prediction for training data.\n",
    "    pred_te:predcition for test data.\n",
    "    \n",
    "    Output:\n",
    "    A string demonstrate the accuracies.\n",
    "    '''\n",
    "    n_tr = 33600\n",
    "    n_te = 8400\n",
    "    te_accu = sum(pred_te == y_te)/n_te\n",
    "    tr_accu = sum(pred_tr == y_tr)/n_tr\n",
    "    print('The training accuracy is {}. \\nThe test accuracy is {}'.format(tr_accu, te_accu))\n",
    "    return(None)"
   ]
  },
  {
   "cell_type": "code",
   "execution_count": 13,
   "metadata": {},
   "outputs": [],
   "source": [
    "def model_test(x, y_true, clf, name = None):\n",
    "    '''\n",
    "    This function is doing cross-validation on given data and model.\n",
    "    \n",
    "    Input:\n",
    "    x: variable matrix(dataframe)\n",
    "    y_true: True label of each data point\n",
    "    clf: The classifier to validate\n",
    "    name: Name of the classifier\n",
    "    '''\n",
    "    start_time = time.time()\n",
    "    score = cross_val_score(clf, x, y_true, cv = 5, scoring = 'accuracy' ).mean()\n",
    "    end_time = time.time()\n",
    "    print('Model: {}'.format(name))\n",
    "    print('Running time: {}'.format(end_time - start_time))\n",
    "    print('Accuracy: {}'.format(score))\n",
    "    return(None)"
   ]
  },
  {
   "cell_type": "markdown",
   "metadata": {},
   "source": [
    "### Gaussian Naiive Bayes"
   ]
  },
  {
   "cell_type": "code",
   "execution_count": 45,
   "metadata": {},
   "outputs": [],
   "source": [
    "from sklearn.naive_bayes import GaussianNB, MultinomialNB"
   ]
  },
  {
   "cell_type": "code",
   "execution_count": 46,
   "metadata": {},
   "outputs": [],
   "source": [
    "gnb = GaussianNB()\n",
    "gnb.fit(x_tr, y_tr)\n",
    "gnb_pred_te = gnb.predict(x_te)\n",
    "gnb_pred_tr = gnb.predict(x_tr)"
   ]
  },
  {
   "cell_type": "code",
   "execution_count": 47,
   "metadata": {},
   "outputs": [
    {
     "name": "stdout",
     "output_type": "stream",
     "text": [
      "Model: GaussianNB\n",
      "Running time: 1.8853528499603271\n",
      "Accuracy: 0.5977254989416543\n"
     ]
    }
   ],
   "source": [
    "model_test(x_te, y_te, gnb, 'GaussianNB')"
   ]
  },
  {
   "cell_type": "markdown",
   "metadata": {},
   "source": [
    "From the accuracy for data sets, the accuracy is obviously bad. It is only 0.55661 even on training data. The result is not so ideal. Therefore, trying to find out if the reason is the posterior, I changed the distribution to multinomial."
   ]
  },
  {
   "cell_type": "markdown",
   "metadata": {},
   "source": [
    "### Multinomial Naiive Bayes"
   ]
  },
  {
   "cell_type": "code",
   "execution_count": 48,
   "metadata": {},
   "outputs": [
    {
     "name": "stdout",
     "output_type": "stream",
     "text": [
      "Model: Multinomial Naiive Bayes\n",
      "Running time: 1.8795948028564453\n",
      "Accuracy: 0.5977254989416543\n"
     ]
    }
   ],
   "source": [
    "mnb = MultinomialNB()\n",
    "mnb.fit(x_tr, y_tr)\n",
    "model_test(x_te, y_te, gnb, 'Multinomial Naiive Bayes')"
   ]
  },
  {
   "cell_type": "markdown",
   "metadata": {},
   "source": [
    "After changing into Mutinomial naiive bayes, things did not really change. The accuracy stayed the same, just the time consumed was slightly less. So, it is obvious that naiive bayes is not suitable for this situation."
   ]
  },
  {
   "cell_type": "markdown",
   "metadata": {},
   "source": [
    "### Decision tree:"
   ]
  },
  {
   "cell_type": "code",
   "execution_count": 12,
   "metadata": {},
   "outputs": [],
   "source": [
    "from sklearn import tree"
   ]
  },
  {
   "cell_type": "code",
   "execution_count": 13,
   "metadata": {},
   "outputs": [],
   "source": [
    "tree_clf = tree.DecisionTreeClassifier()\n",
    "tree_clf.fit(x_tr, y_tr)\n",
    "tree_pred_te = tree_clf.predict(x_te)\n",
    "tree_pred_tr = tree_clf.predict(x_tr)"
   ]
  },
  {
   "cell_type": "code",
   "execution_count": 14,
   "metadata": {},
   "outputs": [
    {
     "data": {
      "text/plain": [
       "'digit.pdf'"
      ]
     },
     "execution_count": 14,
     "metadata": {},
     "output_type": "execute_result"
    }
   ],
   "source": [
    "import graphviz\n",
    "import os\n",
    "os.environ[\"PATH\"] += os.pathsep + 'C:/Program Files/graphviz/bin/'\n",
    "dot_data = tree.export_graphviz(tree_clf)\n",
    "graph = graphviz.Source(dot_data)\n",
    "graph.render('digit')"
   ]
  },
  {
   "cell_type": "code",
   "execution_count": 57,
   "metadata": {
    "scrolled": true
   },
   "outputs": [
    {
     "name": "stdout",
     "output_type": "stream",
     "text": [
      "Model: Decision tree\n",
      "Running time: 5.37388277053833\n",
      "Accuracy: 0.791057324556544\n"
     ]
    }
   ],
   "source": [
    "model_test(x_te, y_te, tree_clf, 'Decision tree')"
   ]
  },
  {
   "cell_type": "code",
   "execution_count": 58,
   "metadata": {},
   "outputs": [
    {
     "name": "stdout",
     "output_type": "stream",
     "text": [
      "The training accuracy is 1.0. \n",
      "The test accuracy is 0.8558333333333333\n"
     ]
    }
   ],
   "source": [
    "pred_accu(tree_pred_tr, tree_pred_te)"
   ]
  },
  {
   "cell_type": "markdown",
   "metadata": {},
   "source": [
    "I found that decision tree model overfit the training data and got the accuracy as 1.0. But the accuracy for the test data was just 0.86. So instead of traditional decision tree, I gave a try on random forest."
   ]
  },
  {
   "cell_type": "markdown",
   "metadata": {},
   "source": [
    "### Random forest"
   ]
  },
  {
   "cell_type": "code",
   "execution_count": 59,
   "metadata": {},
   "outputs": [],
   "source": [
    "from sklearn.ensemble import RandomForestClassifier"
   ]
  },
  {
   "cell_type": "code",
   "execution_count": 60,
   "metadata": {},
   "outputs": [
    {
     "name": "stdout",
     "output_type": "stream",
     "text": [
      "Model: Random Forest\n",
      "Running time: 24.555639028549194\n",
      "Accuracy: 0.9446425454686327\n"
     ]
    }
   ],
   "source": [
    "rf_clf = RandomForestClassifier(n_estimators=400, n_jobs=4)\n",
    "rf_clf.fit(x_tr, y_tr)\n",
    "model_test(x_te, y_te, rf_clf, 'Random Forest')"
   ]
  },
  {
   "cell_type": "markdown",
   "metadata": {},
   "source": [
    "From the result of model_test, random forest got an impressive accuracy on test data. However I still wanted to improve the running time, since there were 2 tunning parameters to work further on: n_estimators and n_jobs. Hopefully, by changing tunning parameters and checking the score in each iteration, running time will converge before setting the estimators to be 400."
   ]
  },
  {
   "cell_type": "code",
   "execution_count": 61,
   "metadata": {
    "scrolled": true
   },
   "outputs": [
    {
     "name": "stdout",
     "output_type": "stream",
     "text": [
      "--------n_est = 15---------\n",
      "--------n_est = 30---------\n",
      "--------n_est = 45---------\n",
      "--------n_est = 60---------\n",
      "--------n_est = 75---------\n",
      "--------n_est = 90---------\n",
      "--------n_est = 105---------\n",
      "--------n_est = 120---------\n",
      "--------n_est = 135---------\n",
      "--------n_est = 150---------\n",
      "--------n_est = 165---------\n",
      "--------n_est = 180---------\n",
      "--------n_est = 195---------\n",
      "--------n_est = 210---------\n",
      "--------n_est = 225---------\n",
      "--------n_est = 240---------\n",
      "--------n_est = 255---------\n",
      "--------n_est = 270---------\n",
      "--------n_est = 285---------\n",
      "--------n_est = 300---------\n",
      "--------n_est = 315---------\n",
      "--------n_est = 330---------\n",
      "--------n_est = 345---------\n",
      "--------n_est = 360---------\n",
      "--------n_est = 375---------\n",
      "--------n_est = 390---------\n",
      "--------n_est = 405---------\n"
     ]
    }
   ],
   "source": [
    "scores = []\n",
    "times = []\n",
    "\n",
    "for n_est in range(15,420, 15):\n",
    "    print('--------n_est = {}---------'.format(n_est))\n",
    "    start = time.time()\n",
    "    rf_temp = RandomForestClassifier(n_estimators= n_est, n_jobs=4)\n",
    "    rf_temp.fit(x_tr, y_tr)\n",
    "    s = cross_val_score(rf_temp, x_te, y_te, cv = 5, scoring = 'accuracy' ).mean() \n",
    "    scores.append(s)\n",
    "    end = time.time()\n",
    "    t = end - start\n",
    "#     print(t)\n",
    "    times.append(t)\n"
   ]
  },
  {
   "cell_type": "code",
   "execution_count": 62,
   "metadata": {
    "scrolled": false
   },
   "outputs": [
    {
     "data": {
      "image/png": "[encoded data removed]",
      "text/plain": [
       "<Figure size 360x360 with 2 Axes>"
      ]
     },
     "metadata": {
      "needs_background": "light"
     },
     "output_type": "display_data"
    }
   ],
   "source": [
    "fig = plt.figure(figsize=(5,5))\n",
    "ax1 = fig.add_subplot(111)\n",
    "ax1.plot(list(range(15,420, 15)), scores, label = 'score', c = 'red')\n",
    "ax1.set_ylabel('score')\n",
    "ax1.legend(loc = (0.75,0.15))\n",
    "\n",
    "ax2 = ax1.twinx()\n",
    "ax2.plot(list(range(15,420,15)), times, label = 'time')\n",
    "ax2.set_ylabel('time')\n",
    "ax2.legend(loc = (.75,.05))\n",
    "\n",
    "plt.savefig('random_forest')"
   ]
  },
  {
   "cell_type": "markdown",
   "metadata": {},
   "source": [
    "From the plot we can see that the accuracy converged to around 0.945 after n_estimators being larger than 115. Adding more estimators did not result in better estimation but longer time was taken. So it is quite resonable to use the model whose n_estimators is 115. Based on this conclusion, I got the final random forest model as below."
   ]
  },
  {
   "cell_type": "code",
   "execution_count": 63,
   "metadata": {},
   "outputs": [
    {
     "name": "stdout",
     "output_type": "stream",
     "text": [
      "Model: Random Forest\n",
      "Running time: 7.49285101890564\n",
      "Accuracy: 0.9438126843241047\n"
     ]
    }
   ],
   "source": [
    "rf_clf = RandomForestClassifier(n_estimators=115, n_jobs=4)\n",
    "rf_clf.fit(x_tr, y_tr)\n",
    "model_test(x_te, y_te, rf_clf, 'Random Forest')"
   ]
  },
  {
   "cell_type": "markdown",
   "metadata": {},
   "source": [
    "### PCA and Support vector machine"
   ]
  },
  {
   "cell_type": "code",
   "execution_count": 14,
   "metadata": {},
   "outputs": [],
   "source": [
    "from sklearn import svm\n",
    "from sklearn.decomposition import PCA"
   ]
  },
  {
   "cell_type": "markdown",
   "metadata": {},
   "source": [
    "Since the dimension for each data point is 784, which is considerably large to use in SVM. So it is neccessary to find a way to reduce the dinmension of this problem. The very pratical and fundamental method is to use PCA."
   ]
  },
  {
   "cell_type": "code",
   "execution_count": 15,
   "metadata": {
    "scrolled": true
   },
   "outputs": [
    {
     "name": "stdout",
     "output_type": "stream",
     "text": [
      "The recommended number of components is 59.\n",
      " The cumulative explained variance ratio is 0.850766248469864\n"
     ]
    }
   ],
   "source": [
    "pca_dcp = PCA()\n",
    "pca_dcp.fit(x_tr)\n",
    "ratio = pca_dcp.explained_variance_ratio_\n",
    "\n",
    "cumulative_ratio = 0\n",
    "n_compo = 0\n",
    "ratio_sum = []\n",
    "indicator = 0\n",
    "for r in ratio:\n",
    "    cumulative_ratio = cumulative_ratio + r\n",
    "    ratio_sum.append(cumulative_ratio)\n",
    "    n_compo = n_compo + 1\n",
    "    \n",
    "    if cumulative_ratio >= 0.85 and indicator == 0:\n",
    "        print('The recommended number of components is {}.\\n The cumulative explained variance ratio is {}'.format(n_compo, cumulative_ratio))\n",
    "        indicator += 1"
   ]
  },
  {
   "cell_type": "code",
   "execution_count": 16,
   "metadata": {},
   "outputs": [
    {
     "data": {
      "image/png": "[encoded data removed]",
      "text/plain": [
       "<Figure size 576x360 with 2 Axes>"
      ]
     },
     "metadata": {
      "needs_background": "light"
     },
     "output_type": "display_data"
    }
   ],
   "source": [
    "fig = plt.figure(figsize=(8,5))\n",
    "ax1 = fig.add_subplot(111)\n",
    "ax1.plot(list(range(1, len(ratio)+1)), ratio_sum, c = 'orange', label = 'cumulative ratio')\n",
    "ax1.set_ylabel('cumulative explained variance ratio')\n",
    "ax1.legend(loc = (0.7,0.25))\n",
    "\n",
    "ax2 = ax1.twinx()\n",
    "ax2.plot(list(range(1, len(ratio)+1)), ratio, c = 'r', label = 'each ratio')\n",
    "ax2.set_ylabel('Ratio of each components')\n",
    "ax2.legend(loc = (0.7,0.15))\n",
    "\n",
    "plt.title('explained variance')\n",
    "plt.savefig('PCA')"
   ]
  },
  {
   "cell_type": "markdown",
   "metadata": {},
   "source": [
    "Based on the output above, I decided the number of components tobe 87. Then I transformed the data."
   ]
  },
  {
   "cell_type": "code",
   "execution_count": 17,
   "metadata": {},
   "outputs": [],
   "source": [
    "pca_dcp = PCA(n_components=59, whiten= True)\n",
    "x_tr_pca = pca_dcp.fit_transform(x_tr)\n",
    "x_te_pca = pca_dcp.transform(x_te)"
   ]
  },
  {
   "cell_type": "code",
   "execution_count": 18,
   "metadata": {},
   "outputs": [
    {
     "data": {
      "text/plain": [
       "((33600, 59), (8400, 59))"
      ]
     },
     "execution_count": 18,
     "metadata": {},
     "output_type": "execute_result"
    }
   ],
   "source": [
    "x_tr_pca.shape, x_te_pca.shape"
   ]
  },
  {
   "cell_type": "code",
   "execution_count": 19,
   "metadata": {},
   "outputs": [],
   "source": [
    "def svm_score():\n",
    "    start_time = time.time()\n",
    "    svc_clf = svm.SVC(C = 10, kernel='rbf', gamma = 'auto')\n",
    "    svc_clf.fit(x_tr_pca, y_tr)\n",
    "    score = cross_val_score(svc_clf, x_te_pca, y_te, cv=5,scoring='accuracy').mean()\n",
    "    end_time = time.time()\n",
    "    print('Use time: {} seconds'.format((end_time - start_time)))\n",
    "    print('Accuracy on test data: {}'.format(score))\n",
    "    return(None)"
   ]
  },
  {
   "cell_type": "code",
   "execution_count": 20,
   "metadata": {},
   "outputs": [
    {
     "data": {
      "text/plain": [
       "SVC(C=10, cache_size=200, class_weight=None, coef0=0.0,\n",
       "  decision_function_shape='ovr', degree=3, gamma='auto', kernel='rbf',\n",
       "  max_iter=-1, probability=False, random_state=None, shrinking=True,\n",
       "  tol=0.001, verbose=False)"
      ]
     },
     "execution_count": 20,
     "metadata": {},
     "output_type": "execute_result"
    }
   ],
   "source": [
    "svc_clf = svm.SVC(C = 10, kernel='rbf', gamma = 'auto')\n",
    "svc_clf.fit(x_tr_pca, y_tr)"
   ]
  },
  {
   "cell_type": "code",
   "execution_count": 21,
   "metadata": {},
   "outputs": [
    {
     "name": "stdout",
     "output_type": "stream",
     "text": [
      "Model: SVC\n",
      "Running time: 22.626350164413452\n",
      "Accuracy: 0.9625042564683233\n"
     ]
    }
   ],
   "source": [
    "model_test(x_te_pca, y_te, svc_clf, 'SVC')"
   ]
  },
  {
   "cell_type": "markdown",
   "metadata": {},
   "source": [
    "From the result above, it is clear to see that the running time for either fitting the model or doing cross-validation on the model was improved a lot. And the accuracy still seemed quite good. So the idea using PCA worked well for this data. And so far, I got the best result by SVM('rbf') + PCA."
   ]
  },
  {
   "cell_type": "markdown",
   "metadata": {},
   "source": [
    "### KNN"
   ]
  },
  {
   "cell_type": "markdown",
   "metadata": {},
   "source": [
    "Since there are too much training data and the dimension is quite large, it is predictable that using a KNN model is not ideal. So, even though KNN is designed to do supervied classification, I decided not to use it."
   ]
  },
  {
   "cell_type": "markdown",
   "metadata": {},
   "source": [
    "### CNN"
   ]
  },
  {
   "cell_type": "code",
   "execution_count": 15,
   "metadata": {},
   "outputs": [
    {
     "name": "stderr",
     "output_type": "stream",
     "text": [
      "Using TensorFlow backend.\n"
     ]
    }
   ],
   "source": [
    "import tensorflow as tf\n",
    "import keras\n",
    "from keras import layers, datasets, models\n",
    "from keras import backend as K"
   ]
  },
  {
   "cell_type": "code",
   "execution_count": 16,
   "metadata": {},
   "outputs": [],
   "source": [
    "import winsound"
   ]
  },
  {
   "cell_type": "code",
   "execution_count": 17,
   "metadata": {
    "scrolled": true
   },
   "outputs": [
    {
     "data": {
      "text/plain": [
       "array([[0, 0, 0, ..., 0, 0, 0],\n",
       "       [0, 0, 0, ..., 0, 0, 0],\n",
       "       [0, 0, 0, ..., 0, 0, 0],\n",
       "       ...,\n",
       "       [0, 0, 0, ..., 0, 0, 0],\n",
       "       [0, 0, 0, ..., 0, 0, 0],\n",
       "       [0, 0, 0, ..., 0, 0, 0]], dtype=int64)"
      ]
     },
     "execution_count": 17,
     "metadata": {},
     "output_type": "execute_result"
    }
   ],
   "source": [
    "x_tr.values"
   ]
  },
  {
   "cell_type": "markdown",
   "metadata": {},
   "source": [
    "#### Transform data"
   ]
  },
  {
   "cell_type": "code",
   "execution_count": 18,
   "metadata": {},
   "outputs": [],
   "source": [
    "def transform_data():\n",
    "    img_cols = 28\n",
    "    img_rows = 28\n",
    "    num_classes = 10\n",
    "     \n",
    "    if K.image_data_format() == 'channels_first':\n",
    "        x_train = x_tr.values.reshape(x_tr.shape[0], 1, img_rows, img_cols)\n",
    "        x_test = x_te.values.reshape(x_test.shape[0], 1, img_rows, img_cols)\n",
    "        input_shape = (1, 28, 28)\n",
    "    else:\n",
    "        x_train = x_tr.values.reshape(x_tr.shape[0], img_rows, img_cols, 1)\n",
    "        x_test = x_te.values.reshape(x_te.shape[0], img_rows, img_cols, 1)\n",
    "        input_shape = (img_rows, img_cols, 1)\n",
    "        \n",
    "    x_train = x_train.astype('float32')\n",
    "    x_test = x_test.astype('float32')\n",
    "    x_train /= 255\n",
    "    x_test /= 255\n",
    "    print('x_train shape:', x_train.shape)\n",
    "    print(x_train.shape[0], 'train samples')\n",
    "    print(x_test.shape[0], 'test samples')\n",
    "    y_train = keras.utils.to_categorical(y_tr, num_classes)\n",
    "    y_test = keras.utils.to_categorical(y_te, num_classes)\n",
    "    \n",
    "    return x_train, y_train, x_test, y_test"
   ]
  },
  {
   "cell_type": "markdown",
   "metadata": {},
   "source": [
    "#### Build up model:"
   ]
  },
  {
   "cell_type": "code",
   "execution_count": 19,
   "metadata": {},
   "outputs": [],
   "source": [
    "def cnn_model():\n",
    "    model = keras.models.Sequential()\n",
    "    \n",
    "    model.add(\n",
    "        layers.Conv2D(\n",
    "            filters=32,\n",
    "            kernel_size=(5, 5),\n",
    "            padding='Same',\n",
    "            activation='relu',\n",
    "            input_shape=(28, 28, 1)))\n",
    "    \n",
    "    model.add(\n",
    "        layers.Conv2D(\n",
    "            filters=32, \n",
    "            kernel_size=(5, 5),\n",
    "            padding='Same',\n",
    "            activation='relu'))\n",
    "    \n",
    "    model.add(layers.MaxPool2D(pool_size=(2, 2)))\n",
    "    \n",
    "    model.add(layers.Dropout(0.25))\n",
    "\n",
    "    model.add(\n",
    "        layers.Conv2D(\n",
    "            filters=64, \n",
    "            kernel_size=(3, 3), \n",
    "            padding='Same', \n",
    "            activation='relu'))\n",
    "    \n",
    "    model.add(\n",
    "        layers.Conv2D(\n",
    "            filters=64, \n",
    "            kernel_size=(3, 3), \n",
    "            padding='Same', \n",
    "            activation='relu'))\n",
    "    \n",
    "    model.add(layers.MaxPool2D(pool_size=(2, 2), strides=(2, 2)))\n",
    "    \n",
    "    model.add(layers.Dropout(0.25))\n",
    "\n",
    "    model.add(layers.Flatten())\n",
    "    \n",
    "    model.add(layers.Dense(256, activation=\"relu\"))\n",
    "    \n",
    "    model.add(layers.Dropout(0.5))\n",
    "    \n",
    "    model.add(layers.Dense(10, activation=\"softmax\"))\n",
    "    \n",
    "    return(model)"
   ]
  },
  {
   "cell_type": "code",
   "execution_count": 20,
   "metadata": {},
   "outputs": [
    {
     "name": "stdout",
     "output_type": "stream",
     "text": [
      "x_train shape: (33600, 28, 28, 1)\n",
      "33600 train samples\n",
      "8400 test samples\n",
      "WARNING:tensorflow:From D:\\Download\\lib\\site-packages\\tensorflow\\python\\framework\\op_def_library.py:263: colocate_with (from tensorflow.python.framework.ops) is deprecated and will be removed in a future version.\n",
      "Instructions for updating:\n",
      "Colocations handled automatically by placer.\n",
      "WARNING:tensorflow:From D:\\Download\\lib\\site-packages\\keras\\backend\\tensorflow_backend.py:3445: calling dropout (from tensorflow.python.ops.nn_ops) with keep_prob is deprecated and will be removed in a future version.\n",
      "Instructions for updating:\n",
      "Please use `rate` instead of `keep_prob`. Rate should be set to `rate = 1 - keep_prob`.\n"
     ]
    }
   ],
   "source": [
    "x_train, y_train, x_test, y_test = transform_data()\n",
    "model = cnn_model()"
   ]
  },
  {
   "cell_type": "code",
   "execution_count": 21,
   "metadata": {},
   "outputs": [],
   "source": [
    "from keras.utils import plot_model\n",
    "plot_model(model, to_file='model.png', show_shapes=False)"
   ]
  },
  {
   "cell_type": "code",
   "execution_count": 22,
   "metadata": {
    "scrolled": true
   },
   "outputs": [
    {
     "name": "stdout",
     "output_type": "stream",
     "text": [
      "conv2d_1 : (None, 28, 28, 1) to (None, 28, 28, 32)\n",
      "conv2d_2 : (None, 28, 28, 32) to (None, 28, 28, 32)\n",
      "max_pooling2d_1 : (None, 28, 28, 32) to (None, 14, 14, 32)\n",
      "dropout_1 : (None, 14, 14, 32) to (None, 14, 14, 32)\n",
      "conv2d_3 : (None, 14, 14, 32) to (None, 14, 14, 64)\n",
      "conv2d_4 : (None, 14, 14, 64) to (None, 14, 14, 64)\n",
      "max_pooling2d_2 : (None, 14, 14, 64) to (None, 7, 7, 64)\n",
      "dropout_2 : (None, 7, 7, 64) to (None, 7, 7, 64)\n",
      "flatten_1 : (None, 7, 7, 64) to (None, 3136)\n",
      "dense_1 : (None, 3136) to (None, 256)\n",
      "dropout_3 : (None, 256) to (None, 256)\n",
      "dense_2 : (None, 256) to (None, 10)\n"
     ]
    }
   ],
   "source": [
    "for l in model.layers:\n",
    "    print(\"{} : {} to {}\".format(l.name,l.input_shape,l.output_shape))"
   ]
  },
  {
   "cell_type": "markdown",
   "metadata": {},
   "source": [
    "#### Training model with different optimizer and batchsize"
   ]
  },
  {
   "cell_type": "code",
   "execution_count": 23,
   "metadata": {},
   "outputs": [],
   "source": [
    "def run_cnn(batch, opt):\n",
    "    model = cnn_model()\n",
    "    model.compile(loss=keras.losses.categorical_crossentropy,\n",
    "              optimizer=opt(),\n",
    "              metrics=['accuracy'])\n",
    "\n",
    "    history = model.fit(x_train, y_train,\n",
    "              batch_size= batch,\n",
    "              epochs=4,\n",
    "              verbose=1,\n",
    "              validation_data=(x_test, y_test))\n",
    "    score = model.evaluate(x_test, y_test, verbose=0)\n",
    "    print('Test loss:', score[0])\n",
    "    print('Test accuracy:', score[1])\n",
    "    \n",
    "    winsound.Beep(4000, 4000)\n",
    "    return(history)"
   ]
  },
  {
   "cell_type": "markdown",
   "metadata": {},
   "source": [
    "-----------------------------\n",
    "Optimizer: AdaDelta\n",
    "\n",
    "Batchsize: 32"
   ]
  },
  {
   "cell_type": "code",
   "execution_count": 25,
   "metadata": {},
   "outputs": [
    {
     "name": "stdout",
     "output_type": "stream",
     "text": [
      "WARNING:tensorflow:From D:\\Download\\lib\\site-packages\\tensorflow\\python\\ops\\math_ops.py:3066: to_int32 (from tensorflow.python.ops.math_ops) is deprecated and will be removed in a future version.\n",
      "Instructions for updating:\n",
      "Use tf.cast instead.\n",
      "Train on 33600 samples, validate on 8400 samples\n",
      "Epoch 1/4\n",
      "33600/33600 [==============================] - 111s 3ms/step - loss: 0.2236 - acc: 0.9298 - val_loss: 0.0627 - val_acc: 0.9815\n",
      "Epoch 2/4\n",
      "33600/33600 [==============================] - 112s 3ms/step - loss: 0.0738 - acc: 0.9786 - val_loss: 0.0516 - val_acc: 0.9860\n",
      "Epoch 3/4\n",
      "33600/33600 [==============================] - 112s 3ms/step - loss: 0.0539 - acc: 0.9841 - val_loss: 0.0567 - val_acc: 0.9831\n",
      "Epoch 4/4\n",
      "33600/33600 [==============================] - 113s 3ms/step - loss: 0.0442 - acc: 0.9867 - val_loss: 0.0374 - val_acc: 0.9900\n",
      "Test loss: 0.03740757554355133\n",
      "Test accuracy: 0.99\n"
     ]
    }
   ],
   "source": [
    "hist1 = run_cnn(32, keras.optimizers.Adadelta)"
   ]
  },
  {
   "cell_type": "markdown",
   "metadata": {},
   "source": [
    "-------------------------------------\n",
    "optimizer: AdaDelta\n",
    "\n",
    "batchsize: 128"
   ]
  },
  {
   "cell_type": "code",
   "execution_count": 27,
   "metadata": {
    "scrolled": false
   },
   "outputs": [
    {
     "name": "stdout",
     "output_type": "stream",
     "text": [
      "Train on 33600 samples, validate on 8400 samples\n",
      "Epoch 1/4\n",
      "33600/33600 [==============================] - 86s 3ms/step - loss: 0.3677 - acc: 0.8805 - val_loss: 0.0753 - val_acc: 0.9774\n",
      "Epoch 2/4\n",
      "33600/33600 [==============================] - 86s 3ms/step - loss: 0.0958 - acc: 0.9705 - val_loss: 0.0561 - val_acc: 0.9829\n",
      "Epoch 3/4\n",
      "33600/33600 [==============================] - 86s 3ms/step - loss: 0.0699 - acc: 0.9787 - val_loss: 0.0454 - val_acc: 0.9857\n",
      "Epoch 4/4\n",
      "33600/33600 [==============================] - 86s 3ms/step - loss: 0.0558 - acc: 0.9830 - val_loss: 0.0396 - val_acc: 0.9893\n",
      "Test loss: 0.039592770350337515\n",
      "Test accuracy: 0.9892857142857143\n"
     ]
    }
   ],
   "source": [
    "hist2 = run_cnn(128, keras.optimizers.Adadelta)"
   ]
  },
  {
   "cell_type": "markdown",
   "metadata": {},
   "source": [
    "------------------------------------------------\n",
    "optimizer: Adam\n",
    "\n",
    "batchsize: 64"
   ]
  },
  {
   "cell_type": "code",
   "execution_count": 28,
   "metadata": {
    "scrolled": true
   },
   "outputs": [
    {
     "name": "stdout",
     "output_type": "stream",
     "text": [
      "Train on 33600 samples, validate on 8400 samples\n",
      "Epoch 1/4\n",
      "33600/33600 [==============================] - 105s 3ms/step - loss: 0.2603 - acc: 0.9167 - val_loss: 0.0667 - val_acc: 0.9794\n",
      "Epoch 2/4\n",
      "33600/33600 [==============================] - 105s 3ms/step - loss: 0.0871 - acc: 0.9746 - val_loss: 0.0457 - val_acc: 0.9869\n",
      "Epoch 3/4\n",
      "33600/33600 [==============================] - 106s 3ms/step - loss: 0.0602 - acc: 0.9811 - val_loss: 0.0419 - val_acc: 0.9886\n",
      "Epoch 4/4\n",
      "33600/33600 [==============================] - 106s 3ms/step - loss: 0.0518 - acc: 0.9843 - val_loss: 0.0389 - val_acc: 0.9888\n",
      "Test loss: 0.03890653940704873\n",
      "Test accuracy: 0.9888095238095238\n"
     ]
    }
   ],
   "source": [
    "hist3 = run_cnn(64, keras.optimizers.Adam)"
   ]
  },
  {
   "cell_type": "code",
   "execution_count": 29,
   "metadata": {},
   "outputs": [
    {
     "name": "stdout",
     "output_type": "stream",
     "text": [
      "Train on 33600 samples, validate on 8400 samples\n",
      "Epoch 1/4\n",
      "33600/33600 [==============================] - 87s 3ms/step - loss: 0.3032 - acc: 0.9035 - val_loss: 0.0730 - val_acc: 0.9781\n",
      "Epoch 2/4\n",
      "33600/33600 [==============================] - 86s 3ms/step - loss: 0.0896 - acc: 0.9721 - val_loss: 0.0495 - val_acc: 0.9846\n",
      "Epoch 3/4\n",
      "33600/33600 [==============================] - 86s 3ms/step - loss: 0.0620 - acc: 0.9813 - val_loss: 0.0407 - val_acc: 0.9880\n",
      "Epoch 4/4\n",
      "33600/33600 [==============================] - 86s 3ms/step - loss: 0.0510 - acc: 0.9840 - val_loss: 0.0382 - val_acc: 0.9901\n",
      "Test loss: 0.03818897176650353\n",
      "Test accuracy: 0.9901190476190476\n"
     ]
    }
   ],
   "source": [
    "hist4 = run_cnn(128, keras.optimizers.Adam)"
   ]
  },
  {
   "cell_type": "markdown",
   "metadata": {},
   "source": [
    "#### Visualize history"
   ]
  },
  {
   "cell_type": "code",
   "execution_count": 114,
   "metadata": {},
   "outputs": [],
   "source": [
    "def visual_hist(history, o, b):\n",
    "    fig, (ax1, ax2) = plt.subplots(1,2, figsize = (10, 4))\n",
    "    \n",
    "    \n",
    "    ax1.plot(history.history['acc'])\n",
    "    ax1.plot(history.history['val_acc'])\n",
    "    ax1.set_title('Model accuracy')\n",
    "    ax1.set_ylabel('Accuracy')\n",
    "    ax1.set_xlabel('Epoch')\n",
    "    ax1.legend(['Train', 'Test'], loc='upper left')\n",
    "#     plt.show()\n",
    "\n",
    "    # 绘制训练 & 验证的损失值\n",
    "    ax2.plot(history.history['loss'])\n",
    "    ax2.plot(history.history['val_loss'])\n",
    "    ax2.set_title('Model loss')\n",
    "    ax2.set_ylabel('Loss')\n",
    "    ax2.set_xlabel('Epoch')\n",
    "    ax2.legend(['Train', 'Test'], loc='upper right')\n",
    "#     plt.show()\n",
    "    \n",
    "    fig.suptitle('Optimizer: {} + batchsize: {}'.format(o,b))\n",
    "    \n",
    "    return()"
   ]
  },
  {
   "cell_type": "code",
   "execution_count": 121,
   "metadata": {},
   "outputs": [
    {
     "data": {
      "image/png": "[encoded data removed]",
      "text/plain": [
       "<Figure size 720x288 with 2 Axes>"
      ]
     },
     "metadata": {
      "needs_background": "light"
     },
     "output_type": "display_data"
    },
    {
     "data": {
      "image/png": "[encoded data removed]",
      "text/plain": [
       "<Figure size 720x288 with 2 Axes>"
      ]
     },
     "metadata": {
      "needs_background": "light"
     },
     "output_type": "display_data"
    },
    {
     "data": {
      "image/png": "[encoded data removed]",
      "text/plain": [
       "<Figure size 720x288 with 2 Axes>"
      ]
     },
     "metadata": {
      "needs_background": "light"
     },
     "output_type": "display_data"
    },
    {
     "data": {
      "image/png": "[encoded data removed]",
      "text/plain": [
       "<Figure size 720x288 with 2 Axes>"
      ]
     },
     "metadata": {
      "needs_background": "light"
     },
     "output_type": "display_data"
    }
   ],
   "source": [
    "i = 1\n",
    "for opt, batch, h in zip(['AdaDelta', 'AdaDelta', 'Adam', 'Adam'], ['32', '128', '64', '128'], [hist1, hist2, hist3, hist4]):\n",
    "    visual_hist(h, opt, batch)\n",
    "    plt.savefig('CNN_{}'.format(i))\n",
    "    i = i+1"
   ]
  }
 ],
 "metadata": {
  "kernelspec": {
   "display_name": "Python 3",
   "language": "python",
   "name": "python3"
  },
  "language_info": {
   "codemirror_mode": {
    "name": "ipython",
    "version": 3
   },
   "file_extension": ".py",
   "mimetype": "text/x-python",
   "name": "python",
   "nbconvert_exporter": "python",
   "pygments_lexer": "ipython3",
   "version": "3.6.8"
  }
 },
 "nbformat": 4,
 "nbformat_minor": 2
}
